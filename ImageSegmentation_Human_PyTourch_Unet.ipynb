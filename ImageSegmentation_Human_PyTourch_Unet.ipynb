{
  "nbformat": 4,
  "nbformat_minor": 5,
  "metadata": {
    "kernelspec": {
      "display_name": "Python 3",
      "language": "python",
      "name": "python3"
    },
    "language_info": {
      "codemirror_mode": {
        "name": "ipython",
        "version": 3
      },
      "file_extension": ".py",
      "mimetype": "text/x-python",
      "name": "python",
      "nbconvert_exporter": "python",
      "pygments_lexer": "ipython3",
      "version": "3.9.5"
    },
    "colab": {
      "name": "ImageSegmentation_Human_PyTourch_Unet.ipynb",
      "provenance": [],
      "collapsed_sections": [],
      "include_colab_link": true
    },
    "accelerator": "GPU"
  },
  "cells": [
    {
      "cell_type": "markdown",
      "metadata": {
        "id": "view-in-github",
        "colab_type": "text"
      },
      "source": [
        "<a href=\"https://colab.research.google.com/github/HoomanKhosravi/ImageSegmentation_Human_PyTourch_Unet/blob/main/ImageSegmentation_Human_PyTourch_Unet.ipynb\" target=\"_parent\"><img src=\"https://colab.research.google.com/assets/colab-badge.svg\" alt=\"Open In Colab\"/></a>"
      ]
    },
    {
      "cell_type": "code",
      "metadata": {
        "id": "Trj2m5ohqPY8"
      },
      "source": [
        "!pip install segmentation-models-pytorch\n",
        "!pip install -U git+https://github.com/albumentations-team/albumentations"
      ],
      "id": "Trj2m5ohqPY8",
      "execution_count": null,
      "outputs": []
    },
    {
      "cell_type": "markdown",
      "metadata": {
        "id": "7kVJz-wpTERY"
      },
      "source": [
        "#Dataset\n",
        "\n",
        "original author of the dataset :\n",
        "https://github.com/VikramShenoy97/Human-Segmentation-Dataset\n"
      ],
      "id": "7kVJz-wpTERY"
    },
    {
      "cell_type": "code",
      "metadata": {
        "id": "jKFIZ8IlTDgT",
        "colab": {
          "base_uri": "https://localhost:8080/"
        },
        "outputId": "9f551106-4a14-4a77-a148-66e9dd31844d"
      },
      "source": [
        "!git clone https://github.com/parth1620/Human-Segmentation-Dataset-master.git"
      ],
      "id": "jKFIZ8IlTDgT",
      "execution_count": 5,
      "outputs": [
        {
          "output_type": "stream",
          "name": "stdout",
          "text": [
            "fatal: destination path 'Human-Segmentation-Dataset-master' already exists and is not an empty directory.\n"
          ]
        }
      ]
    },
    {
      "cell_type": "markdown",
      "metadata": {
        "id": "NXcstKkYxaEm"
      },
      "source": [
        ""
      ],
      "id": "NXcstKkYxaEm"
    },
    {
      "cell_type": "markdown",
      "metadata": {
        "id": "compliant-gossip"
      },
      "source": [
        "#Imports"
      ],
      "id": "compliant-gossip"
    },
    {
      "cell_type": "code",
      "metadata": {
        "id": "0F7rW6SNTn5r"
      },
      "source": [
        "import sys\n",
        "sys.path.append('/content/Human-Segmentation-Dataset-master')"
      ],
      "id": "0F7rW6SNTn5r",
      "execution_count": 6,
      "outputs": []
    },
    {
      "cell_type": "code",
      "metadata": {
        "id": "unlikely-winner"
      },
      "source": [
        "import torch \n",
        "import cv2\n",
        "\n",
        "import numpy as np \n",
        "import pandas as pd\n",
        "import matplotlib.pyplot as plt \n",
        "\n",
        "from sklearn.model_selection import train_test_split\n",
        "from tqdm import tqdm\n",
        "\n",
        "import helper"
      ],
      "id": "unlikely-winner",
      "execution_count": 7,
      "outputs": []
    },
    {
      "cell_type": "markdown",
      "metadata": {
        "id": "moved-bottle"
      },
      "source": [
        "#Setup Configurations"
      ],
      "id": "moved-bottle"
    },
    {
      "cell_type": "code",
      "metadata": {
        "id": "interim-grant"
      },
      "source": [
        "TRAIN_CSV = '/content/Human-Segmentation-Dataset-master/train.csv'\n",
        "DATA_DIR = '/content'\n",
        "\n",
        "DEVICE = 'cuda'\n",
        "\n",
        "EPOCHS = 25\n",
        "LEARNING_RATE = 0.003\n",
        "IMAGE_SIZE = 320\n",
        "BATCH_SIZE = 16\n",
        "\n",
        "ENCODER = 'timm-efficientnet-b0'\n",
        "WEIGHTS = 'imagenet'\n",
        "\n"
      ],
      "id": "interim-grant",
      "execution_count": 8,
      "outputs": []
    },
    {
      "cell_type": "code",
      "metadata": {
        "id": "c2y3i-ALRRVM",
        "colab": {
          "base_uri": "https://localhost:8080/",
          "height": 204
        },
        "outputId": "4b14d75f-9d88-4cc8-b1df-4af0c6f01677"
      },
      "source": [
        "df = pd.read_csv(TRAIN_CSV)\n",
        "df.head()"
      ],
      "id": "c2y3i-ALRRVM",
      "execution_count": 9,
      "outputs": [
        {
          "output_type": "execute_result",
          "data": {
            "text/html": [
              "<div>\n",
              "<style scoped>\n",
              "    .dataframe tbody tr th:only-of-type {\n",
              "        vertical-align: middle;\n",
              "    }\n",
              "\n",
              "    .dataframe tbody tr th {\n",
              "        vertical-align: top;\n",
              "    }\n",
              "\n",
              "    .dataframe thead th {\n",
              "        text-align: right;\n",
              "    }\n",
              "</style>\n",
              "<table border=\"1\" class=\"dataframe\">\n",
              "  <thead>\n",
              "    <tr style=\"text-align: right;\">\n",
              "      <th></th>\n",
              "      <th>masks</th>\n",
              "      <th>images</th>\n",
              "    </tr>\n",
              "  </thead>\n",
              "  <tbody>\n",
              "    <tr>\n",
              "      <th>0</th>\n",
              "      <td>Human-Segmentation-Dataset-master/Ground_Truth...</td>\n",
              "      <td>Human-Segmentation-Dataset-master/Training_Ima...</td>\n",
              "    </tr>\n",
              "    <tr>\n",
              "      <th>1</th>\n",
              "      <td>Human-Segmentation-Dataset-master/Ground_Truth...</td>\n",
              "      <td>Human-Segmentation-Dataset-master/Training_Ima...</td>\n",
              "    </tr>\n",
              "    <tr>\n",
              "      <th>2</th>\n",
              "      <td>Human-Segmentation-Dataset-master/Ground_Truth...</td>\n",
              "      <td>Human-Segmentation-Dataset-master/Training_Ima...</td>\n",
              "    </tr>\n",
              "    <tr>\n",
              "      <th>3</th>\n",
              "      <td>Human-Segmentation-Dataset-master/Ground_Truth...</td>\n",
              "      <td>Human-Segmentation-Dataset-master/Training_Ima...</td>\n",
              "    </tr>\n",
              "    <tr>\n",
              "      <th>4</th>\n",
              "      <td>Human-Segmentation-Dataset-master/Ground_Truth...</td>\n",
              "      <td>Human-Segmentation-Dataset-master/Training_Ima...</td>\n",
              "    </tr>\n",
              "  </tbody>\n",
              "</table>\n",
              "</div>"
            ],
            "text/plain": [
              "                                               masks                                             images\n",
              "0  Human-Segmentation-Dataset-master/Ground_Truth...  Human-Segmentation-Dataset-master/Training_Ima...\n",
              "1  Human-Segmentation-Dataset-master/Ground_Truth...  Human-Segmentation-Dataset-master/Training_Ima...\n",
              "2  Human-Segmentation-Dataset-master/Ground_Truth...  Human-Segmentation-Dataset-master/Training_Ima...\n",
              "3  Human-Segmentation-Dataset-master/Ground_Truth...  Human-Segmentation-Dataset-master/Training_Ima...\n",
              "4  Human-Segmentation-Dataset-master/Ground_Truth...  Human-Segmentation-Dataset-master/Training_Ima..."
            ]
          },
          "metadata": {},
          "execution_count": 9
        }
      ]
    },
    {
      "cell_type": "code",
      "metadata": {
        "id": "cooked-stranger"
      },
      "source": [
        "row = df.iloc[1]\n",
        "mask_dir = row.masks\n",
        "image_dir = row.images\n",
        "\n",
        "image = cv2.imread(image_dir)\n",
        "image = cv2.cvtColor(image, cv2.COLOR_BGR2RGB)\n",
        "\n",
        "mask = cv2.imread(mask_dir, cv2.IMREAD_GRAYSCALE)/ 255.0 "
      ],
      "id": "cooked-stranger",
      "execution_count": 10,
      "outputs": []
    },
    {
      "cell_type": "code",
      "metadata": {
        "id": "superb-belle",
        "colab": {
          "base_uri": "https://localhost:8080/",
          "height": 250
        },
        "outputId": "80226db4-3ecd-4b67-933e-613abddfe762"
      },
      "source": [
        "f, (ax1, ax2) = plt.subplots(1, 2, figsize=(10,5))\n",
        "        \n",
        "ax1.set_title('IMAGE')\n",
        "ax1.imshow(image)\n",
        "\n",
        "ax2.set_title('GROUND TRUTH')\n",
        "ax2.imshow(mask,cmap = 'gray')"
      ],
      "id": "superb-belle",
      "execution_count": 11,
      "outputs": [
        {
          "output_type": "execute_result",
          "data": {
            "text/plain": [
              "<matplotlib.image.AxesImage at 0x7f0f1f669b50>"
            ]
          },
          "metadata": {},
          "execution_count": 11
        },
        {
          "output_type": "display_data",
          "data": {
            "image/png": "[encoded data removed]",
            "text/plain": [
              "<Figure size 720x360 with 2 Axes>"
            ]
          },
          "metadata": {
            "needs_background": "light"
          }
        }
      ]
    },
    {
      "cell_type": "code",
      "metadata": {
        "id": "fabulous-peripheral"
      },
      "source": [
        "train_df, valid_df = train_test_split(df, test_size = 0.2, random_state = 32)\n"
      ],
      "id": "fabulous-peripheral",
      "execution_count": 12,
      "outputs": []
    },
    {
      "cell_type": "markdown",
      "metadata": {
        "id": "fancy-knock"
      },
      "source": [
        "#Augmentation"
      ],
      "id": "fancy-knock"
    },
    {
      "cell_type": "markdown",
      "metadata": {
        "id": "further-vietnamese"
      },
      "source": [
        "albumentation documentation : https://albumentations.ai/docs/"
      ],
      "id": "further-vietnamese"
    },
    {
      "cell_type": "code",
      "metadata": {
        "id": "rocky-pavilion"
      },
      "source": [
        "import albumentations as alb"
      ],
      "id": "rocky-pavilion",
      "execution_count": 13,
      "outputs": []
    },
    {
      "cell_type": "code",
      "metadata": {
        "id": "possible-cinema"
      },
      "source": [
        "def get_train_augs():\n",
        "  return alb.compose([\n",
        "    alb.Resize(IMAGE_SIZE, IMAGE_SIZE),\n",
        "    alb.HorizontalFlip(p = 0.5),\n",
        "    alb.VerticalFlip(p = 0.5)\n",
        "  ])\n",
        "def get_test_augs():\n",
        "  return alb.compose([\n",
        "    alb.Resize(IMAGE_SIZE, IMAGE_SIZE)\n",
        "  ])\n",
        "\n"
      ],
      "id": "possible-cinema",
      "execution_count": 14,
      "outputs": []
    },
    {
      "cell_type": "markdown",
      "metadata": {
        "id": "ceramic-closer"
      },
      "source": [
        "# Create Custom Dataset "
      ],
      "id": "ceramic-closer"
    },
    {
      "cell_type": "code",
      "metadata": {
        "id": "foVhnv7zjvVC"
      },
      "source": [
        "from torch.utils.data import Dataset"
      ],
      "id": "foVhnv7zjvVC",
      "execution_count": 16,
      "outputs": []
    },
    {
      "cell_type": "code",
      "metadata": {
        "id": "anonymous-wagon"
      },
      "source": [
        "class SegmentationDataset(Dataset):\n",
        "  def __init__(self, df, augmentations):\n",
        "    self.df = df\n",
        "    self.augmentations = augmentations\n",
        "\n",
        "  def __len__(self):\n",
        "    return len(self.df)\n",
        "\n",
        "  def __getItem__(self, idx):\n",
        "    row = self.df.iloc[idx]\n",
        "    \n",
        "    mask_dir = row.masks\n",
        "    image_dir = row.images\n",
        "\n",
        "    image = cv2.imread(image_dir)\n",
        "    image = cv2.cvtColor(image, cv2.COLOR_BGR2RGB)\n",
        "\n",
        "    mask = cv2.imread(mask_dir, cv2.IMREAD_GRAYSCALE) \n",
        "    mask = np.expand_dims(mask, axis = -1)\n",
        "\n",
        "    if self.augmentations:\n",
        "      data = self.augmentations(image = image, mask = mask)\n",
        "      image = data['image']\n",
        "      mask = data['mask']\n",
        "    \n",
        "    image = np.transpose(image, (2,0,1)).astype(np.float32)\n",
        "    mask = torch.round( torch.Tensor(mask)/255.0 )\n",
        "\n",
        "    return image, mask\n",
        "    \n",
        "\n"
      ],
      "id": "anonymous-wagon",
      "execution_count": 18,
      "outputs": []
    },
    {
      "cell_type": "code",
      "metadata": {
        "id": "looking-lightning"
      },
      "source": [
        ""
      ],
      "id": "looking-lightning",
      "execution_count": null,
      "outputs": []
    },
    {
      "cell_type": "code",
      "metadata": {
        "id": "gothic-extreme"
      },
      "source": [
        "print(f\"Size of Trainset : {len(trainset)}\")\n",
        "print(f\"Size of Validset : {len(validset)}\")"
      ],
      "id": "gothic-extreme",
      "execution_count": null,
      "outputs": []
    },
    {
      "cell_type": "code",
      "metadata": {
        "id": "aging-being"
      },
      "source": [
        ""
      ],
      "id": "aging-being",
      "execution_count": null,
      "outputs": []
    },
    {
      "cell_type": "markdown",
      "metadata": {
        "id": "impossible-literature"
      },
      "source": [
        "#Load dataset into batches"
      ],
      "id": "impossible-literature"
    },
    {
      "cell_type": "code",
      "metadata": {
        "id": "honey-paraguay"
      },
      "source": [
        ""
      ],
      "id": "honey-paraguay",
      "execution_count": null,
      "outputs": []
    },
    {
      "cell_type": "code",
      "metadata": {
        "id": "lesbian-terror"
      },
      "source": [
        ""
      ],
      "id": "lesbian-terror",
      "execution_count": null,
      "outputs": []
    },
    {
      "cell_type": "code",
      "metadata": {
        "id": "saved-blend"
      },
      "source": [
        ""
      ],
      "id": "saved-blend",
      "execution_count": null,
      "outputs": []
    },
    {
      "cell_type": "code",
      "metadata": {
        "id": "heard-nightmare"
      },
      "source": [
        ""
      ],
      "id": "heard-nightmare",
      "execution_count": null,
      "outputs": []
    },
    {
      "cell_type": "markdown",
      "metadata": {
        "id": "fiscal-genome"
      },
      "source": [
        "# Segmentation Model"
      ],
      "id": "fiscal-genome"
    },
    {
      "cell_type": "markdown",
      "metadata": {
        "id": "opening-benefit"
      },
      "source": [
        "segmentation_models_pytorch documentation : https://smp.readthedocs.io/en/latest/"
      ],
      "id": "opening-benefit"
    },
    {
      "cell_type": "code",
      "metadata": {
        "id": "protected-emphasis"
      },
      "source": [
        ""
      ],
      "id": "protected-emphasis",
      "execution_count": null,
      "outputs": []
    },
    {
      "cell_type": "code",
      "metadata": {
        "id": "stopped-treaty"
      },
      "source": [
        ""
      ],
      "id": "stopped-treaty",
      "execution_count": null,
      "outputs": []
    },
    {
      "cell_type": "code",
      "metadata": {
        "id": "christian-settlement"
      },
      "source": [
        ""
      ],
      "id": "christian-settlement",
      "execution_count": null,
      "outputs": []
    },
    {
      "cell_type": "markdown",
      "metadata": {
        "id": "threaded-bracket"
      },
      "source": [
        "#Create Train and Validation Function "
      ],
      "id": "threaded-bracket"
    },
    {
      "cell_type": "code",
      "metadata": {
        "id": "alone-voltage"
      },
      "source": [
        ""
      ],
      "id": "alone-voltage",
      "execution_count": null,
      "outputs": []
    },
    {
      "cell_type": "code",
      "metadata": {
        "id": "whole-musician"
      },
      "source": [
        ""
      ],
      "id": "whole-musician",
      "execution_count": null,
      "outputs": []
    },
    {
      "cell_type": "markdown",
      "metadata": {
        "id": "primary-variance"
      },
      "source": [
        "#Train Model"
      ],
      "id": "primary-variance"
    },
    {
      "cell_type": "code",
      "metadata": {
        "id": "floral-france"
      },
      "source": [
        ""
      ],
      "id": "floral-france",
      "execution_count": null,
      "outputs": []
    },
    {
      "cell_type": "code",
      "metadata": {
        "id": "mounted-sword"
      },
      "source": [
        ""
      ],
      "id": "mounted-sword",
      "execution_count": null,
      "outputs": []
    },
    {
      "cell_type": "markdown",
      "metadata": {
        "id": "CVVzhk0HupfA"
      },
      "source": [
        "#Inference"
      ],
      "id": "CVVzhk0HupfA"
    },
    {
      "cell_type": "code",
      "metadata": {
        "id": "seventh-seating"
      },
      "source": [
        ""
      ],
      "id": "seventh-seating",
      "execution_count": null,
      "outputs": []
    },
    {
      "cell_type": "code",
      "metadata": {
        "id": "divided-mustang"
      },
      "source": [
        ""
      ],
      "id": "divided-mustang",
      "execution_count": null,
      "outputs": []
    }
  ]
}